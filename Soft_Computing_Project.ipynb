{
  "nbformat": 4,
  "nbformat_minor": 0,
  "metadata": {
    "colab": {
      "name": "Soft Computing Project.ipynb",
      "provenance": []
    },
    "kernelspec": {
      "name": "python3",
      "display_name": "Python 3"
    },
    "language_info": {
      "name": "python"
    }
  },
  "cells": [
    {
      "cell_type": "markdown",
      "metadata": {
        "id": "O4Zxcq4eQCC8"
      },
      "source": [
        "# **Soft Computing Project**\n",
        "\n",
        "> **Tuning of Fuzzy Logic with the help of Genetic Algorithm**\n",
        "\n",
        "> Presented By: \n",
        "\n",
        "*   Abhigyan Srivastava (18064001)\n",
        "*   Divya Sinha (18084007)\n"
      ]
    },
    {
      "cell_type": "code",
      "metadata": {
        "id": "fZ6Mxj1At6Pz",
        "colab": {
          "base_uri": "https://localhost:8080/"
        },
        "outputId": "3953228f-cb73-47af-efa6-54ab0169cb60"
      },
      "source": [
        "import matplotlib.pyplot as plt\n",
        "import numpy as np\n",
        "from sklearn import datasets\n",
        "from tqdm import tqdm\n",
        "!pip install -U scikit-fuzzy\n",
        "import skfuzzy as fuzz"
      ],
      "execution_count": null,
      "outputs": [
        {
          "output_type": "stream",
          "text": [
            "Collecting scikit-fuzzy\n",
            "\u001b[?25l  Downloading https://files.pythonhosted.org/packages/6c/f0/5eb5dbe0fd8dfe7d4651a8f4e591a196623a22b9e5339101e559695b4f6c/scikit-fuzzy-0.4.2.tar.gz (993kB)\n",
            "\u001b[K     |████████████████████████████████| 1.0MB 6.2MB/s \n",
            "\u001b[?25hRequirement already satisfied, skipping upgrade: numpy>=1.6.0 in /usr/local/lib/python3.7/dist-packages (from scikit-fuzzy) (1.19.5)\n",
            "Requirement already satisfied, skipping upgrade: scipy>=0.9.0 in /usr/local/lib/python3.7/dist-packages (from scikit-fuzzy) (1.4.1)\n",
            "Requirement already satisfied, skipping upgrade: networkx>=1.9.0 in /usr/local/lib/python3.7/dist-packages (from scikit-fuzzy) (2.5.1)\n",
            "Requirement already satisfied, skipping upgrade: decorator<5,>=4.3 in /usr/local/lib/python3.7/dist-packages (from networkx>=1.9.0->scikit-fuzzy) (4.4.2)\n",
            "Building wheels for collected packages: scikit-fuzzy\n",
            "  Building wheel for scikit-fuzzy (setup.py) ... \u001b[?25l\u001b[?25hdone\n",
            "  Created wheel for scikit-fuzzy: filename=scikit_fuzzy-0.4.2-cp37-none-any.whl size=894069 sha256=7db579d69531051959a61cf278a70d33a8038c3e2e55625399c927d5937608f2\n",
            "  Stored in directory: /root/.cache/pip/wheels/b9/4e/77/da79b16f64ef1738d95486e2731eea09d73e90a72465096600\n",
            "Successfully built scikit-fuzzy\n",
            "Installing collected packages: scikit-fuzzy\n",
            "Successfully installed scikit-fuzzy-0.4.2\n"
          ],
          "name": "stdout"
        }
      ]
    },
    {
      "cell_type": "markdown",
      "metadata": {
        "id": "D0wmARKYxTsd"
      },
      "source": [
        "# **Genetic Algorithm**"
      ]
    },
    {
      "cell_type": "code",
      "metadata": {
        "id": "WtkxuE7FPsBm"
      },
      "source": [
        "def _best(population, fitness_func, best, fbest):\n",
        "\n",
        "    for i in range(population[0].shape[0]):\n",
        "        if population[1][i] > -1.0:\n",
        "            tmp = population[1][i]\n",
        "        else:\n",
        "            tmp = fitness_func(population[0][i])\n",
        "            population[1][i] = tmp\n",
        "\n",
        "        if best is None or tmp < fbest:\n",
        "            best = population[0][i]\n",
        "            fbest = tmp\n",
        "    return best.copy(), fbest.copy()\n",
        "\n",
        "def _tournament_selection(population, fitness_func):\n",
        "\n",
        "    idxs = np.random.permutation(np.arange(population[0].shape[0]))\n",
        "\n",
        "    parent1 = population[0][idxs[0], :]\n",
        "    parent2 = population[0][idxs[1], :]\n",
        "\n",
        "    if population[1][idxs[0]] > -1.0:\n",
        "        fitness1 = population[1][idxs[0]] \n",
        "    else:\n",
        "        fitness1 = fitness_func(parent1)\n",
        "        population[1][idxs[0]] = fitness1\n",
        "\n",
        "    if population[1][idxs[1]] > -1.0:\n",
        "        fitness2 = population[1][idxs[1]] \n",
        "    else:\n",
        "        fitness2 = fitness_func(parent2)\n",
        "        population[1][idxs[1]] = fitness2\n",
        "\n",
        "    return parent1 if fitness1 < fitness2 else parent2\n",
        "\n",
        "\n",
        "def individuals(size):  # Return index of random attribute of an individual \n",
        "    return np.random.rand(size)\n",
        "\n",
        "\n",
        "# Function that mutates an individual\n",
        "def _mutate(individual):\n",
        "\n",
        "    idx = np.random.randint(low=0, high=individual.shape[0])\n",
        "    individual[idx] = np.random.rand()\n",
        "    return individual\n",
        "\n",
        "def _crossover(male, female, alpha=0.7):\n",
        "  \n",
        "    shift = np.abs(male - female) * alpha\n",
        "\n",
        "    mmin = np.amin([male, female], axis=0) - shift\n",
        "    mmax = np.amax([male, female], axis=0) + shift\n",
        "\n",
        "    mmin = np.clip(mmin, 0, 1)\n",
        "    mmax = np.clip(mmax, 0, 1)\n",
        "\n",
        "    offspring1 = np.random.uniform(low=mmin, high=mmax)\n",
        "    offspring2 = np.random.uniform(low=mmin, high=mmax)\n",
        "\n",
        "    return offspring1, offspring2  \n",
        "\n",
        "\n",
        "def genetic_algorithm(fitness_func, dim, n_individuals, epochs, crossover_rate, mutation_rate, verbose):\n",
        "    \n",
        "    assert n_individuals % 2 == 0\n",
        "    \n",
        "    population = [np.array([individuals(dim) for x in range(n_individuals)]), \n",
        "                  np.zeros(n_individuals) - 1.0]\n",
        "\n",
        "    children = np.zeros((n_individuals, dim)) # 10 x 4 \n",
        "    best, fbest = None, None\n",
        "\n",
        "    for e in range(epochs):\n",
        "        for c in range(0, n_individuals, 2):\n",
        "\n",
        "            parent1 = _tournament_selection(population, fitness_func)\n",
        "            parent2 = _tournament_selection(population, fitness_func)\n",
        "\n",
        "            while np.array_equal(parent1, parent2):\n",
        "                parent2 = _tournament_selection(population, fitness_func)\n",
        "\n",
        "            if np.random.uniform() < crossover_rate:\n",
        "                offspring1, offspring2 = _crossover(parent1, parent2)\n",
        "                children[c, :] = offspring1\n",
        "                children[c+1, :] = offspring2\n",
        "            else:\n",
        "                children[c, :] = parent1\n",
        "                children[c+1, :] = parent2\n",
        "\n",
        "            if np.random.uniform() < mutation_rate:\n",
        "                children[c, :] = _mutate(children[c, :])\n",
        "\n",
        "            if np.random.uniform() < mutation_rate:\n",
        "                children[c+1, :] = _mutate(children[c+1, :])\n",
        "\n",
        "        best, fbest = _best(population, fitness_func, best, fbest)\n",
        "\n",
        "        population[0][:] = children[:]\n",
        "        population[1][:] = -1.0\n",
        "        children[:] = 0.0\n",
        "\n",
        "        if verbose:\n",
        "            print('epoch {:2d}, best fitness = {:.10f}'.format(e, fbest))\n",
        "\n",
        "    return best, fbest"
      ],
      "execution_count": null,
      "outputs": []
    },
    {
      "cell_type": "markdown",
      "metadata": {
        "id": "ONgdk5RHxcas"
      },
      "source": [
        "# **Fuzzy Logic**"
      ]
    },
    {
      "cell_type": "code",
      "metadata": {
        "id": "gWlbh9ftQJzV"
      },
      "source": [
        "def normalize_dataset(dataset):\n",
        "\tmin_arr = np.amin(dataset, axis=0)\n",
        "\treturn (dataset - min_arr) / (np.amax(dataset, axis=0) - min_arr)\n",
        "\n",
        "def evaluate_new_fuzzy_system(w1, w2, w3, w4, data, target):\n",
        "  \n",
        "  universe = np.linspace(0, 1, 150)\n",
        "\n",
        "  x = []\n",
        "  for w in [w1, w2, w3, w4]: # 4 membership functions, 1 for each wi\n",
        "    x.append({'s': fuzz.trimf(universe, [0.0, 0.0, w]),\n",
        "              'm': fuzz.trimf(universe, [0.0, w, 1.0]),\n",
        "            'l': fuzz.trimf(universe, [w, 1.0, 1.0])})\n",
        "\n",
        "  x_memb = []\n",
        "  for i in range(4):\n",
        "    x_memb.append({})\n",
        "    for t in ['s', 'm', 'l']:\n",
        "      x_memb[i][t] = fuzz.interp_membership(universe, x[i][t], data[:, i])\n",
        "\n",
        "  is_setosa = np.fmin(np.fmax(x_memb[2]['s'], x_memb[2]['m']), x_memb[3]['s'])\n",
        "  is_versicolor = np.fmax(np.fmin(np.fmin(np.fmin(np.fmax(x_memb[0]['s'], x_memb[0]['l']), np.fmax(x_memb[1]['m'], x_memb[1]['l'])), np.fmax(x_memb[2]['m'], x_memb[2]['l'])),x_memb[3]['m']), np.fmin(x_memb[0]['m'], np.fmin(np.fmin(np.fmax(x_memb[1]['s'], x_memb[1]['m']),x_memb[2]['s']), x_memb[3]['l'])))\n",
        "  is_virginica = np.fmin(np.fmin(np.fmax(x_memb[1]['s'], x_memb[1]['m']), x_memb[2]['l']), x_memb[3]['l'])\n",
        "\n",
        "  result = np.argmax([is_setosa, is_versicolor, is_virginica], axis=0)\n",
        "\n",
        "  return (result == target).mean()"
      ],
      "execution_count": null,
      "outputs": []
    },
    {
      "cell_type": "markdown",
      "metadata": {
        "id": "jTtA79-jxq36"
      },
      "source": [
        "# **Model Training & Testing**"
      ]
    },
    {
      "cell_type": "code",
      "metadata": {
        "colab": {
          "base_uri": "https://localhost:8080/",
          "height": 334
        },
        "id": "BnTPE-MFxqbK",
        "outputId": "54d51b11-3151-48bf-a625-3b951c183107"
      },
      "source": [
        "iris = datasets.load_iris()\n",
        "normalized_iris = normalize_dataset(iris.data)\n",
        "n_features = normalized_iris.shape[1] # features/attributes  = 4\n",
        "\n",
        "fitness = lambda w: 1.0 - evaluate_new_fuzzy_system(w[0], w[1], w[2], w[3], normalized_iris, iris.target)\n",
        "\n",
        "cr_rate = 0.9\n",
        "mu_rate = 0.1\n",
        "\n",
        "fitness_record = []\n",
        "for i in tqdm(range(30)):\n",
        "\n",
        "  best, fbest = genetic_algorithm(fitness_func=fitness, dim=n_features, n_individuals=10, epochs=30, crossover_rate=cr_rate, mutation_rate=mu_rate, verbose=False)\n",
        "  fitness_record.append(1.0 - fbest)\n",
        "\n",
        "acc = sum(fitness_record)/len(fitness_record)\n",
        "print (\" THE ACCURACY ACHIEVED IS \" , acc) \n",
        "\n",
        "fig, ax = plt.subplots(figsize=(5, 4))\n",
        "\n",
        "ax.boxplot(fitness_record, vert=True, patch_artist=True)\n",
        "\n",
        "s = 'CR='+str(cr_rate)+' MU='+str(mu_rate)\n",
        "ax.set_xlabel(s)\n",
        "ax.set_ylabel('Accuracy')\n",
        "\n",
        "plt.tight_layout()\n",
        "plt.show()"
      ],
      "execution_count": null,
      "outputs": [
        {
          "output_type": "stream",
          "text": [
            "100%|██████████| 30/30 [00:09<00:00,  3.10it/s]"
          ],
          "name": "stderr"
        },
        {
          "output_type": "stream",
          "text": [
            " THE ACCURACY ACHIEVED IS  0.952\n"
          ],
          "name": "stdout"
        },
        {
          "output_type": "stream",
          "text": [
            "\n"
          ],
          "name": "stderr"
        },
        {
          "output_type": "display_data",
          "data": {
            "image/png": "[encoded data removed]",
            "text/plain": [
              "<Figure size 360x288 with 1 Axes>"
            ]
          },
          "metadata": {
            "tags": [],
            "needs_background": "light"
          }
        }
      ]
    },
    {
      "cell_type": "code",
      "metadata": {
        "colab": {
          "base_uri": "https://localhost:8080/"
        },
        "id": "4LYZ_jKw2jTA",
        "outputId": "75e6b784-e0b5-4f19-9913-2fd23755bf01"
      },
      "source": [
        "min_acc = min(fitness_record)\n",
        "max_acc = max(fitness_record)\n",
        "mean_acc = sum(fitness_record)/len(fitness_record)\n",
        "import statistics\n",
        "std = statistics.pstdev(fitness_record)\n",
        "print(\"Minimum accuracy achieved is: \" + str(min_acc))\n",
        "print(\"Maximum accuracy achieved is: \" + str(max_acc))\n",
        "print(\"Average accuracy is: \" + str(mean_acc))\n",
        "print(\"Standard deviation is : \" + str(std))"
      ],
      "execution_count": null,
      "outputs": [
        {
          "output_type": "stream",
          "text": [
            "Minimum accuracy achieved is: 0.9333333333333333\n",
            "Maximum accuracy achieved is: 0.9666666666666667\n",
            "Average accuracy is: 0.952\n",
            "Standard deviation is : 0.009645570850760312\n"
          ],
          "name": "stdout"
        }
      ]
    },
    {
      "cell_type": "code",
      "metadata": {
        "colab": {
          "base_uri": "https://localhost:8080/",
          "height": 341
        },
        "id": "XzrqS5DwwoOI",
        "outputId": "cad3993b-bd00-4052-aa50-1ae98489bcd8"
      },
      "source": [
        "import seaborn as sns\n",
        "sns.distplot(fitness_record)"
      ],
      "execution_count": null,
      "outputs": [
        {
          "output_type": "stream",
          "text": [
            "/usr/local/lib/python3.7/dist-packages/seaborn/distributions.py:2557: FutureWarning: `distplot` is a deprecated function and will be removed in a future version. Please adapt your code to use either `displot` (a figure-level function with similar flexibility) or `histplot` (an axes-level function for histograms).\n",
            "  warnings.warn(msg, FutureWarning)\n"
          ],
          "name": "stderr"
        },
        {
          "output_type": "execute_result",
          "data": {
            "text/plain": [
              "<matplotlib.axes._subplots.AxesSubplot at 0x7f18d5089dd0>"
            ]
          },
          "metadata": {
            "tags": []
          },
          "execution_count": 8
        },
        {
          "output_type": "display_data",
          "data": {
            "image/png": "[encoded data removed]",
            "text/plain": [
              "<Figure size 432x288 with 1 Axes>"
            ]
          },
          "metadata": {
            "tags": [],
            "needs_background": "light"
          }
        }
      ]
    }
  ]
}